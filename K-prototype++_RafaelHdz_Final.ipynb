{
 "cells": [
  {
   "cell_type": "markdown",
   "id": "3666f0ba-e521-45e4-a789-f491cb227dbc",
   "metadata": {},
   "source": [
    "<h1 style=\"text-align: center; background: #013D4F; color: white; padding: 15px 0\">\n",
    "    K-PROTOTYPES++\n",
    "</h1>"
   ]
  },
  {
   "cell_type": "markdown",
   "id": "39241fcd-cd59-49ff-a814-325dc1df86f9",
   "metadata": {},
   "source": [
    "<h2 style=\"text-align: center; background: #0A5F77; color: white; padding: 15px 0; margin: 0\"> Índice </h2>\n",
    "<div style=\"background: #F8FDFF; color: black; padding: 15px 0\">\n",
    "    <ul>\n",
    "        <li><a href='#lib' style=\"color: black; text-decoration: none;\">Importando librerías</a></li>\n",
    "        <li><a href='#cd' style=\"color: black; text-decoration: none;\">Conjunto de datos</a></li>\n",
    "        <li><a href='#p' style=\"color: black; text-decoration: none;\">Preprocesamiento</a></li>\n",
    "        <li><a href='#c' style=\"color: black; text-decoration: none;\">Clases</a></li>\n",
    "        <ul>\n",
    "            <li><a href='#c_est' style=\"color: black; text-decoration: none;\">Estadística</a></li>\n",
    "            <li><a href='#c_kplus' style=\"color: black; text-decoration: none;\">K-PrototypesPlus</a></li>\n",
    "            <li><a href='#c_r' style=\"color: black; text-decoration: none;\">Reporte</a></li>\n",
    "        </ul>\n",
    "        <li><a href='#nda' style=\"color: black; text-decoration: none;\">N° de agrupaciones</a></li>\n",
    "        <li><a href='#impl' style=\"color: black; text-decoration: none;\">Implementación de algoritmo</a></li>\n",
    "        <ul>\n",
    "            <li><a href='#kproto' style=\"color: black; text-decoration: none;\">K-Prototypes</a></li>\n",
    "            <ul>\n",
    "                <li><a href='#m1' style=\"color: black; text-decoration: none;\">Métrica de medición</a></li>\n",
    "                <li><a href='#r1' style=\"color: black; text-decoration: none;\">Reporte</a></li>\n",
    "                <li><a href='#p1' style=\"color: black; text-decoration: none;\">Pureza (si aplica)</a></li>\n",
    "            </ul>\n",
    "            <li><a href='#kproto_plus' style=\"color: black; text-decoration: none;\">K-Prototypes++</a></li>\n",
    "            <ul>\n",
    "                <li><a href='#m2' style=\"color: black; text-decoration: none;\">Métrica de medición</a></li>\n",
    "                <li><a href='#r2' style=\"color: black; text-decoration: none;\">Reporte</a></li>\n",
    "                <li><a href='#p2' style=\"color: black; text-decoration: none;\">Pureza (si aplica)</a></li>\n",
    "            </ul>\n",
    "        </ul>\n",
    "    </ul>\n",
    "</div>"
   ]
  },
  {
   "cell_type": "markdown",
   "id": "16944ddd-3e20-411c-bcb6-de8371e39b82",
   "metadata": {},
   "source": [
    "<a id=\"lib\">\n",
    "<h2 style=\"text-align: center; background: #0A5F77; color: white; padding: 15px 0; margin: 0\"> \n",
    "    Importando librerías \n",
    "</h2>"
   ]
  },
  {
   "cell_type": "code",
   "execution_count": null,
   "id": "fec6cb06-ba07-47de-8bd6-981de523d086",
   "metadata": {},
   "outputs": [],
   "source": [
    "import pandas as pd\n",
    "import numpy as np\n",
    "import matplotlib.pyplot as plt\n",
    "from sklearn.metrics import silhouette_score\n",
    "from sklearn.preprocessing import LabelEncoder"
   ]
  },
  {
   "cell_type": "markdown",
   "id": "1dbcbd0b-1bd2-4d83-bd2e-b202b4901f53",
   "metadata": {},
   "source": [
    "<a id=\"cd\">\n",
    "<h2 style=\"text-align: center; background: #0A5F77; color: white; padding: 15px 0; margin: 0\"> \n",
    "    Conjunto de datos\n",
    "</h2>"
   ]
  },
  {
   "cell_type": "code",
   "execution_count": null,
   "id": "c09328da-37c5-470a-b4e5-fdaa555e564c",
   "metadata": {},
   "outputs": [],
   "source": [
    "archivo = 'ad_campaign_performance.csv'\n",
    "archivo = 'covid_variants_dataset.csv'\n",
    "archivo = 'USA_cars_datasets.csv'\n",
    "archivo = 'data_science_job.csv'\n",
    "archivo = 'Energy_consumption_dataset.csv'\n",
    "\n",
    "# Probar la pureza de los datos\n",
    "archivo = 'condicion.csv'\n",
    "archivo = 'ad_campaign_performance_pureza.csv'\n",
    "archivo = 'tratamiento.csv'\n",
    "archivo = 'salarios.csv'\n",
    "archivo = 'pacientes.csv'\n",
    "archivo = 'liver_cancer_prediction.csv'\n",
    "\n",
    "\n",
    "# archivo = 'hypertension_dataset.csv'\n",
    "# archivo = 'depresion_estudiantes.csv'\n",
    "\n",
    "df = pd.read_csv(archivo, sep=',')\n",
    "\n",
    "match archivo:\n",
    "    case 'ad_campaign_performance.csv':\n",
    "        df = df.iloc[:, 1:-1]\n",
    "    case 'USA_cars_datasets.csv':\n",
    "        df.loc[df['model'] == '1500', 'model'] = '_1500'\n",
    "    case 'depresion_estudiantes.csv':\n",
    "        df = df.iloc[:, 1:]\n",
    "    case 'ad_campaign_performance_pureza.csv':\n",
    "        df_con_etiqueta = df\n",
    "        etiquetas_df = df.iloc[:, -1:]\n",
    "        df = df.iloc[:, 1:]\n",
    "    case _:\n",
    "        df_con_etiqueta = df\n",
    "        etiquetas_df = df.iloc[:, -1:]\n",
    "        df = df.iloc[:, :-1]\n",
    "\n",
    "df.head()"
   ]
  },
  {
   "cell_type": "markdown",
   "id": "b117f923-77a8-4fdc-aa1c-767a18d7d172",
   "metadata": {},
   "source": [
    "### Observamos cuantas filas y columnas tiene"
   ]
  },
  {
   "cell_type": "code",
   "execution_count": null,
   "id": "795b6979-fee6-4c8b-9cab-49aa64ed93aa",
   "metadata": {},
   "outputs": [],
   "source": [
    "df.shape"
   ]
  },
  {
   "cell_type": "markdown",
   "id": "08a6c0de-7fa1-4e9a-9eae-43ee3d4881c8",
   "metadata": {},
   "source": [
    "### Analizamos de manera aleatoria nuestro conjunto de datos"
   ]
  },
  {
   "cell_type": "code",
   "execution_count": null,
   "id": "eac39442-9643-4181-8c5a-5d893e15d905",
   "metadata": {},
   "outputs": [],
   "source": [
    "df.sample(7)"
   ]
  },
  {
   "cell_type": "markdown",
   "id": "cefaf227-cb21-4a73-9163-45e188314856",
   "metadata": {},
   "source": [
    "<a id=\"p\">\n",
    "<h2 style=\"text-align: center; background: #0A5F77; color: white; padding: 15px 0; margin: 0\"> \n",
    "    Preprocesamiento\n",
    "</h2>"
   ]
  },
  {
   "cell_type": "markdown",
   "id": "2157d4aa-f304-4dbe-8db9-bea6a8bd195a",
   "metadata": {},
   "source": [
    "### Construimos nuestro diccionario"
   ]
  },
  {
   "cell_type": "code",
   "execution_count": null,
   "id": "fa638531-5823-4fb2-bf3c-d4b9498b7b8e",
   "metadata": {},
   "outputs": [],
   "source": [
    "datadict = pd.DataFrame(df.dtypes)\n",
    "datadict.columns = ['Tipo']\n",
    "print(datadict)"
   ]
  },
  {
   "cell_type": "markdown",
   "id": "c501dca8-b901-442e-9996-cf123b13c8e5",
   "metadata": {},
   "source": [
    "### Manejo de datos perdidos"
   ]
  },
  {
   "cell_type": "markdown",
   "id": "fa2df0f5-136f-4af8-ad65-fedb72f60b7a",
   "metadata": {},
   "source": [
    "#### Buscando datos perdidos y duplicados"
   ]
  },
  {
   "cell_type": "code",
   "execution_count": null,
   "id": "43bb796a-8a4f-40d7-b0cf-7dbd66bbec8c",
   "metadata": {},
   "outputs": [],
   "source": [
    "numericos_df = df.select_dtypes(include=['number'])\n",
    "categoricos_df = df.select_dtypes(include=['object', 'string'])\n",
    "print(f'\\tNuméricos nulos: \\n{numericos_df.isnull().sum()}\\n')\n",
    "print(f'\\tCategoricos nulos: \\n{categoricos_df.isnull().sum()}\\n')"
   ]
  },
  {
   "cell_type": "markdown",
   "id": "672cca87-271c-458e-80fa-182cd8e5d22d",
   "metadata": {},
   "source": [
    "#### Agregamos la columna de datos perdidos y duplicados a nuestro diccionario"
   ]
  },
  {
   "cell_type": "code",
   "execution_count": null,
   "id": "4086f1ae-71ee-4fb3-b018-e77fb5f3034f",
   "metadata": {},
   "outputs": [],
   "source": [
    "perdidos = df.isnull().sum()\n",
    "datadict['Perdidos'] = perdidos\n",
    "print(datadict)"
   ]
  },
  {
   "cell_type": "code",
   "execution_count": null,
   "id": "27ff37f1-df51-425d-930e-7ba3cc20bb15",
   "metadata": {},
   "outputs": [],
   "source": [
    "duplicados = df.duplicated().sum()\n",
    "datadict['Duplicados'] = duplicados\n",
    "datadict"
   ]
  },
  {
   "cell_type": "markdown",
   "id": "9cfb15e9-2621-4d21-8ae1-1eb59b22ad08",
   "metadata": {},
   "source": [
    "#### Numéricos"
   ]
  },
  {
   "cell_type": "code",
   "execution_count": null,
   "id": "1c6aaf35-a8ee-4cb4-8b5d-dfe79434aa6a",
   "metadata": {},
   "outputs": [],
   "source": [
    "print(f'Numéricos nulos: \\n{numericos_df.isnull().sum()}')"
   ]
  },
  {
   "cell_type": "markdown",
   "id": "833cc1bc-181e-48e8-83cd-870dfe1fab51",
   "metadata": {},
   "source": [
    "#### Aplicando algoritmo de imputación de datos nulos (si existieran)"
   ]
  },
  {
   "cell_type": "code",
   "execution_count": null,
   "id": "1bcaebfc-2cb0-45e3-bb14-15b85b667cdc",
   "metadata": {},
   "outputs": [],
   "source": [
    "from sklearn.impute import SimpleImputer\n",
    "\n",
    "# Imputación de datos numéricos\n",
    "num_imputer = SimpleImputer(strategy='mean')\n",
    "df[numericos_df.columns] = num_imputer.fit_transform(numericos_df)"
   ]
  },
  {
   "cell_type": "markdown",
   "id": "8040b820-23d4-4174-a20e-f95f8f889f65",
   "metadata": {},
   "source": [
    "### Categóricos"
   ]
  },
  {
   "cell_type": "code",
   "execution_count": null,
   "id": "4243ba30-05d0-4b6a-898b-2fe828ea9b0b",
   "metadata": {},
   "outputs": [],
   "source": [
    "print(f'Categoricos nulos: \\n{categoricos_df.isnull().sum()}\\n')"
   ]
  },
  {
   "cell_type": "markdown",
   "id": "df3b9b38-09fd-4df9-b0b1-12d51dad497c",
   "metadata": {},
   "source": [
    "#### Aplicando algoritmo de imputación de datos nulos (si existieran)"
   ]
  },
  {
   "cell_type": "code",
   "execution_count": null,
   "id": "f12a6b68-dc95-44c7-9ba0-54f8fdf67e29",
   "metadata": {},
   "outputs": [],
   "source": [
    "from sklearn.impute import SimpleImputer\n",
    "\n",
    "# Imputación de datos categóricos\n",
    "cat_imputer = SimpleImputer(strategy='most_frequent')\n",
    "df[categoricos_df.columns] = cat_imputer.fit_transform(categoricos_df)"
   ]
  },
  {
   "cell_type": "markdown",
   "id": "ffc7583f-498b-49a1-9886-673c88fade48",
   "metadata": {},
   "source": [
    "### Codificación de datos categóricos"
   ]
  },
  {
   "cell_type": "markdown",
   "id": "53a06cf2-c22a-4dd7-b4c2-6d357cf618dc",
   "metadata": {},
   "source": [
    "<p sytle=\"text-align: justify;\">\n",
    "No es necesario codificar las variables categoricas, debido a que el algoritmo a implementar es aplicado con valores mixtos, sin embargo, para fines de estudio y prueba, veamos que pasa si codifican las varibales categoricas.\n",
    "</p>"
   ]
  },
  {
   "cell_type": "code",
   "execution_count": null,
   "id": "04366678-2259-4c41-9ed3-491d9568bffa",
   "metadata": {},
   "outputs": [],
   "source": [
    "# from sklearn.preprocessing import LabelEncoder\n",
    "\n",
    "# # Codificando las variables categoricas\n",
    "# lb = LabelEncoder()\n",
    "# for columna in categoricos_df.columns:\n",
    "#     df[columna] = lb.fit_transform(df[columna])"
   ]
  },
  {
   "cell_type": "markdown",
   "id": "b9a22809-27af-477c-9378-096efd2a13c4",
   "metadata": {},
   "source": [
    "<a id=\"c\">\n",
    "<h2 style=\"text-align: center; background: #0A5F77; color: white; padding: 15px 0; margin: 0\"> \n",
    "    Clases\n",
    "</h2>"
   ]
  },
  {
   "cell_type": "markdown",
   "id": "8cbb0e5b-78f6-406c-a301-2c0ccad855e8",
   "metadata": {},
   "source": [
    "<a id=\"c_est\">\n",
    "<h3 style=\"text-align: center; background: #008DA2; color: white; padding: 15px 0; margin: 0\"> \n",
    "    Estadística\n",
    "</h3>"
   ]
  },
  {
   "cell_type": "code",
   "execution_count": null,
   "id": "2a5a9019-7131-4127-a965-22e5419e958f",
   "metadata": {},
   "outputs": [],
   "source": [
    "class Estadistica:\n",
    "    @classmethod\n",
    "    def distancia_euclidiana(cls, arrays, centro):\n",
    "        distancias_list = []\n",
    "        distancia = 0\n",
    "        for arr in arrays:\n",
    "            for i in range(len(arr)):\n",
    "                distancia += (arr[i] - centro[i])**2\n",
    "            distancias_list.append(round(np.sqrt(distancia), 2))\n",
    "            distancia = 0\n",
    "        return np.array(distancias_list)\n",
    "\n",
    "    @classmethod\n",
    "    def similitud(cls, arrays, centro):\n",
    "        similitud_list = []\n",
    "        similitud = 0\n",
    "        for arr in arrays:\n",
    "            for i in range(len(arr)):\n",
    "                if arr[i] != centro[i]:\n",
    "                    similitud += 1    \n",
    "            similitud_list.append(similitud)\n",
    "            similitud = 0\n",
    "        return np.array(similitud_list)\n",
    "\n",
    "    @classmethod\n",
    "    def minimos(cls, *arrays):\n",
    "        minimos = []\n",
    "        for i in range(len(arrays[0])):\n",
    "            valores = [arr[i] for arr in arrays]\n",
    "            min_valor = min(valores)\n",
    "            min_index = valores.index(min_valor)\n",
    "            min_columna = min_index + 1\n",
    "            minimos.append([min_valor, min_columna, i])\n",
    "        return minimos\n",
    "\n",
    "    @classmethod\n",
    "    def promedios(cls, dataframe):\n",
    "        columnas = dataframe.columns\n",
    "        nuevo_centroide = []\n",
    "        for columna in columnas:\n",
    "            if dataframe[columna].dtype == 'object' or dataframe[columna].dtype == 'string':\n",
    "                if len(dataframe[columna].mode()) > 1:\n",
    "                    # Aquí se puede escoger la moda dependiendo de cada uno\n",
    "                    nuevo_centroide.append(dataframe[columna].mode()[0])\n",
    "                else:\n",
    "                    nuevo_centroide.append(dataframe[columna].mode()[0])\n",
    "                    \n",
    "            else:\n",
    "                nuevo_centroide.append(round(dataframe[columna].mean(), 2))\n",
    "        return np.array(nuevo_centroide)\n",
    "\n",
    "    @classmethod\n",
    "    def normalizar_numericos(cls, df):\n",
    "        # Separando datos categóricos y numéricos\n",
    "        numericos_df = df.select_dtypes(['number'])\n",
    "        categoricos_df = df.select_dtypes(['object','string'])\n",
    "        # Normalizando los datos numéricos\n",
    "        numericos_df = round((numericos_df - numericos_df.min()) / (numericos_df.max() - numericos_df.min()), 2)\n",
    "        return numericos_df, categoricos_df\n",
    "\n",
    "    @classmethod\n",
    "    def is_numeric(cls, value):\n",
    "        try:\n",
    "            float(value)\n",
    "            return True\n",
    "        except ValueError:\n",
    "            return False"
   ]
  },
  {
   "cell_type": "markdown",
   "id": "3e5e4702-a2d5-4975-a18c-d01beac787ca",
   "metadata": {},
   "source": [
    "<a id=\"c_kplus\">\n",
    "<h3 style=\"text-align: center; background: #008DA2; color: white; padding: 15px 0; margin: 0\"> \n",
    "    KPrototypesPlus\n",
    "</h3>"
   ]
  },
  {
   "cell_type": "code",
   "execution_count": null,
   "id": "da255616-542d-4dfb-b78a-e415d399c0a5",
   "metadata": {},
   "outputs": [],
   "source": [
    "class KPrototypesPlus:\n",
    "    def __centroides_probabilidad(self, cent, df, peso, primera_pos):\n",
    "        # Separando datos categóricos y numéricos (numéricos ya normalizados)\n",
    "        numericos_df, categoricos_df = Estadistica.normalizar_numericos(df)\n",
    "    \n",
    "        # Generando los centroides (obteniendo el mejor centride de acuerdo a probabilidades)\n",
    "        indice_max = -1\n",
    "        indices = [primera_pos]\n",
    "        distancias_finales = []\n",
    "        for i in range(cent):\n",
    "            # Localizando centroides\n",
    "            centroide_numerico = numericos_df.iloc[primera_pos] if i == 0 else numericos_df.iloc[indice_max]\n",
    "            centroide_categorico = categoricos_df.iloc[primera_pos] if i == 0 else categoricos_df.iloc[indice_max]\n",
    "            \n",
    "            # Calculando las distancias euclidianas y similitud de coeficientes\n",
    "            d_e = Estadistica.distancia_euclidiana(numericos_df.to_numpy(), centroide_numerico.to_numpy())\n",
    "            s = Estadistica.similitud(categoricos_df.to_numpy(), centroide_categorico.to_numpy())\n",
    "            \n",
    "            # Calulando las distancias finales\n",
    "            dist_final = d_e + s * 1\n",
    "            distancias_finales.append(dist_final)\n",
    "        \n",
    "            if not (len(distancias_finales) > 1):\n",
    "                # Calculando el indice del nuevo centroide\n",
    "                probabiliad = dist_final / sum(dist_final)\n",
    "                max_cent = max(probabiliad)\n",
    "                indice_max = np.where(probabiliad == max_cent)[0][0]\n",
    "                indices.append(indice_max)\n",
    "            else:\n",
    "                # Obteniendo los minimos de las distancias\n",
    "                m = Estadistica.minimos(*distancias_finales)\n",
    "                m = np.array(np.array(m)[:, 0], dtype='float64')\n",
    "                \n",
    "                # Calculando el indice del nuevo centroide\n",
    "                probabiliad = m / sum(m)\n",
    "                max_cent = max(probabiliad)\n",
    "                indice_max = np.where(probabiliad == max_cent)[0][0]\n",
    "                indices.append(indice_max)\n",
    "        return indices\n",
    "\n",
    "    \n",
    "    def _k_prototypes(self, k, df, peso, *args, inicio=1, fin=50, pos_fin=None):\n",
    "        # Separando datos categóricos y numéricos (numéricos ya normalizados)\n",
    "        numericos_df, categoricos_df = Estadistica.normalizar_numericos(df)\n",
    "    \n",
    "        # Generando los centroides\n",
    "        centroides_numericos = []\n",
    "        centroides_categoricos = []\n",
    "        distancias_e = []\n",
    "        similitud_coef = []\n",
    "    \n",
    "        if pos_fin is None:\n",
    "            for i in range(k):\n",
    "                # Numéricos\n",
    "                centroides_numericos.append(numericos_df.iloc[args[i]])\n",
    "                # Categóricos\n",
    "                centroides_categoricos.append(categoricos_df.iloc[args[i]])\n",
    "        \n",
    "            # Calculando las distancias euclidianas y similitud de coeficientes\n",
    "            for i in range(k):\n",
    "                distancias_e.append(Estadistica.distancia_euclidiana(numericos_df.to_numpy(), centroides_numericos[i].to_numpy()))\n",
    "                similitud_coef.append(Estadistica.similitud(categoricos_df.to_numpy(), centroides_categoricos[i].to_numpy()))\n",
    "        else:\n",
    "            fila_n = []\n",
    "            fila_c = []\n",
    "            for row in pos_fin:\n",
    "                for dato in row:\n",
    "                    if Estadistica.is_numeric(dato):    \n",
    "                        fila_n.append(dato)\n",
    "                    else:\n",
    "                        fila_c.append(dato)\n",
    "                centroides_numericos.append(fila_n) # Numéricos\n",
    "                centroides_categoricos.append(fila_c) # Categóricos\n",
    "                fila_n = []\n",
    "                fila_c = []\n",
    "\n",
    "    \n",
    "            centroides_numericos = np.array(centroides_numericos, dtype='float64')\n",
    "            centroides_categoricos = np.array(centroides_categoricos, dtype='object')\n",
    "            # Calculando las distancias euclidianas y similitud de coeficientes\n",
    "            for i in range(k):\n",
    "                distancias_e.append(Estadistica.distancia_euclidiana(numericos_df.to_numpy(), centroides_numericos[i]))\n",
    "                similitud_coef.append(Estadistica.similitud(categoricos_df.to_numpy(), centroides_categoricos[i]))\n",
    "           \n",
    "    \n",
    "        # Calulando las distancias finales\n",
    "        distancias_cent = []\n",
    "        for i in range(k):\n",
    "            dist_final = distancias_e[i] + similitud_coef[i] * peso\n",
    "            distancias_cent.append(dist_final)\n",
    "    \n",
    "        # Obteniendo los minimos y sus etiquetas. Después conviertiendolo a un dataframe\n",
    "        m = Estadistica.minimos(*distancias_cent)\n",
    "        salida = pd.DataFrame(m, columns=['Minimo', 'Etiqueta', 'Indice'])\n",
    "    \n",
    "        # Calculando los promedios de cada centroide con su etiqueta\n",
    "        etiquetas = [i+1 for i in range(k)]\n",
    "        nuevos = []\n",
    "        titulo = f' Iteración {inicio} '\n",
    "        print(titulo.center(70, '-'))\n",
    "        for i in range(k):\n",
    "            indice = salida[salida['Etiqueta'] == etiquetas[i]]['Indice']\n",
    "            nuevo_centriode = pd.concat([categoricos_df.iloc[indice], numericos_df.iloc[indice]], axis=1)\n",
    "            # print('\\n', nuevo_centriode)\n",
    "            prom = Estadistica.promedios(nuevo_centriode)\n",
    "            nuevos.append(prom)\n",
    "            print(f'\\nNuevo C{etiquetas[i]} = {prom}')\n",
    "        print()\n",
    "        # Validando recursividad\n",
    "        if np.array_equal(nuevos, pos_fin) or inicio == fin:\n",
    "            return nuevos, etiquetas, salida, pd.concat([categoricos_df, numericos_df], axis=1)\n",
    "        else:\n",
    "            return self._k_prototypes(k, df, peso, *args, inicio=inicio+1, pos_fin=nuevos)\n",
    "\n",
    "\n",
    "    \n",
    "    def k_prototypes_plus(self, df, k, peso, semilla):\n",
    "        try:\n",
    "            # Establecer la semilla\n",
    "            np.random.seed(semilla)\n",
    "            \n",
    "            # Generar un número aleatorio entero dentro del rango de los datos\n",
    "            numero_entero = np.random.randint(0, len(df))\n",
    "            # print(numero_entero)\n",
    "            # Calculando el k-prototypes++\n",
    "            centroides = self.__centroides_probabilidad(cent=k-1, df=df, peso=peso, primera_pos=numero_entero) #  Obteniendo los centroides\n",
    "            print(' K-PROTOTYPES++ '.center(100, '_'), '\\n')\n",
    "            print('\\t\\t\\t\\tCentroides en las posiciones:', centroides, '\\n')\n",
    "            return self._k_prototypes(k, df, peso, *centroides)\n",
    "        except Exception as e:\n",
    "            print(f'Ocurrio un error: {e}')\n",
    "            return -1\n",
    "\n",
    "\n",
    "    def silhouette(self, centroide_final):\n",
    "        # Recupeperando los datos noramalizados\n",
    "        df_etiquetas = centroide_final[-1]\n",
    "        # salida (concatenando sus etiquetas)\n",
    "        df_etiquetas['Etiqueta'] = centroide_final[2]['Etiqueta'] \n",
    "        \n",
    "        # Obtienendo el df normalizado y sus etiquetas\n",
    "        etiquetas = df_etiquetas.iloc[:, -1]\n",
    "        datos = df_etiquetas.iloc[:, :-1]\n",
    "        \n",
    "        # Codificando las variables categoricas\n",
    "        lb = LabelEncoder()\n",
    "        columnas_categoricas = df.select_dtypes(include=['object', 'string']).columns\n",
    "        for columna in columnas_categoricas:\n",
    "            datos[columna] = lb.fit_transform(datos[columna]) # codificando datos\n",
    "        \n",
    "        datos = Estadistica.normalizar_numericos(datos)[0] # normalizando los datos ([0] obtiene los numericos)\n",
    "        \n",
    "        # Calcular el Silhouette Score para K-Prototypes\n",
    "        sil_score = round(silhouette_score(datos, etiquetas, metric='euclidean'), 2)\n",
    "        print(f'Silhouette: {sil_score}')\n",
    "        \n",
    "        return pd.DataFrame({'Silhouette': [sil_score]}) # Creando su df para colocarlo en el reporte\n",
    "\n",
    "\n",
    "\n",
    "    def tipo_etiqueta(self, etiquetas_df):\n",
    "        # Obteniendo la columna donde estan las etiquetas\n",
    "        columna = etiquetas_df.columns[0]\n",
    "        unicos = etiquetas_df[columna].unique()\n",
    "        etiquetas = {}\n",
    "        # Iterando cada valor para asignarle el centroide (numérico)\n",
    "        for i, valor in enumerate(unicos):\n",
    "            etiquetas[valor] = i + 1\n",
    "        # Creando el df ya con el tipo de etiqueta correspondiente\n",
    "        etiquetas_original_df = pd.DataFrame(etiquetas_df[columna].map(etiquetas))\n",
    "        return etiquetas_original_df\n",
    "    \n",
    "    def pureza(self, centroide_final, etiquetas_original_df):\n",
    "        # Obteniendo las etiquetas de nuestro resultado\n",
    "        etiq_resultado_df = centroide_final[3].iloc[:, -1:]\n",
    "        # Comparando la certeza del algoritmo\n",
    "        comparacion = etiq_resultado_df[etiq_resultado_df.columns[0]] == etiquetas_original_df[etiquetas_original_df.columns[0]]\n",
    "        # Promediando los resulados\n",
    "        promedio = round(comparacion.mean()*100, 2)\n",
    "        print(f'Pureza: {promedio}%')\n",
    "        return pd.DataFrame({'Pureza': [promedio]})"
   ]
  },
  {
   "cell_type": "markdown",
   "id": "fe943c43-ad0c-4aa1-921b-915851028cc5",
   "metadata": {},
   "source": [
    "<a id=\"c_r\">\n",
    "<h3 style=\"text-align: center; background: #008DA2; color: white; padding: 15px 0; margin: 0\"> \n",
    "    Reporte\n",
    "</h3>"
   ]
  },
  {
   "cell_type": "code",
   "execution_count": null,
   "id": "c2987c71-8386-47ca-9bfb-55cc6c7c91d9",
   "metadata": {},
   "outputs": [],
   "source": [
    "class Reporte:\n",
    "    def __init__(self, nombre):\n",
    "        self.archivo_excel = f'Reportes\\\\{nombre}.xlsx'\n",
    "\n",
    "    def exportar_archivo(self, centroide_final):\n",
    "        self.df_etiquetas = centroide_final[-1] # Recupeperando los datos noramalizados\n",
    "        self.df_etiquetas['Etiqueta'] = centroide_final[2]['Etiqueta'] # salida (concatenando sus etiquetas)\n",
    "        \n",
    "        self.df_etiquetas.to_excel(self.archivo_excel, index=False) # Exportando a un archivo \n",
    "\n",
    "    def centroides_finales(self, centroide_final):\n",
    "        # Uniendo las etiquetas de los centroies finales y colocandolo en un DataFrame\n",
    "        centroides, etiquetas = centroide_final[0], centroide_final[1]\n",
    "        promedio_centroides = []\n",
    "        for i, _ in enumerate(centroides):\n",
    "            centroide = centroides[i].tolist()\n",
    "            centroide.append(etiquetas[i])\n",
    "            promedio_centroides.append(centroide)\n",
    "        promedio_centroides = pd.DataFrame(promedio_centroides, columns=self.df_etiquetas.columns)\n",
    "        return promedio_centroides\n",
    "\n",
    "    def anexando_informacion(self, df):\n",
    "        # Si el archivo ya existe, anexamos los nuevos datos\n",
    "        with pd.ExcelWriter(self.archivo_excel, engine='openpyxl', mode='a', if_sheet_exists='overlay') as writer:\n",
    "            # promedio_centroides.to_excel(writer, index=False, sheet_name='Sheet1', startrow=writer.sheets['Sheet1'].max_row, header=False) # fila\n",
    "            df.to_excel(writer, index=False, sheet_name='Sheet1', startcol=writer.sheets['Sheet1'].max_column + 1, header=True) # columna"
   ]
  },
  {
   "cell_type": "markdown",
   "id": "a0a30812-3fcf-481f-8048-38d3fea1d9b3",
   "metadata": {},
   "source": [
    "<a id=\"nda\">\n",
    "<h2 style=\"text-align: center; background: #0A5F77; color: white; padding: 15px 0; margin: 0\"> \n",
    "    N° de agrupaciones\n",
    "</h2>"
   ]
  },
  {
   "cell_type": "code",
   "execution_count": null,
   "id": "8a37c00a-a25a-4fbb-bd32-8fcd4d57e8b2",
   "metadata": {},
   "outputs": [],
   "source": [
    "from kmodes.kprototypes import KPrototypes\n",
    "\n",
    "df_mc = df.iloc[:, :]\n",
    "\n",
    "# Codificando las variables categóricas\n",
    "lb = LabelEncoder()\n",
    "columnas_categoricas = df_mc.select_dtypes(include=['object', 'string']).columns\n",
    "\n",
    "\n",
    "# Codificando las columnas categóricas\n",
    "for columna in columnas_categoricas:\n",
    "    # Ajustamos y transformamos la columna con LabelEncoder\n",
    "    df_mc[columna] = lb.fit_transform(df[columna])  # Codificar la columna\n",
    "    df_mc[columna] = df_mc[columna].astype('object')  # Asegurarse de que las columnas sean del tipo 'object'\n",
    "\n",
    "\n",
    "# Indices de las columnas categóricas\n",
    "indices_numericos_categoricas = [df_mc.columns.get_loc(col) for col in columnas_categoricas]\n",
    "\n",
    "# Lista para almacenar la inercia\n",
    "inertia = []\n",
    "\n",
    "# Numpero máximo de clusters a probar\n",
    "n = 7\n",
    "\n",
    "for k in range(1, n):\n",
    "    kproto = KPrototypes(n_clusters=k, init='Cao', random_state=42)\n",
    "    kproto.fit(df_mc, categorical=indices_numericos_categoricas)\n",
    "    inertia.append(kproto.cost_)\n",
    "\n",
    "# Graficar la inercia vs. el número de clusters\n",
    "plt.figure(figsize=(8, 6))\n",
    "plt.plot(range(1, n), inertia, marker='o')\n",
    "plt.title('Método del Codo para K-Prototypes')\n",
    "plt.xlabel('Número de Clusters (k)')\n",
    "plt.ylabel('Inercia')\n",
    "plt.show()\n"
   ]
  },
  {
   "cell_type": "markdown",
   "id": "02660db3-26bc-4ee6-ae98-23869e3fcded",
   "metadata": {},
   "source": [
    "<a id=\"impl\">\n",
    "<h2 style=\"text-align: center; background: #0A5F77; color: white; padding: 15px 0; margin: 0\"> \n",
    "    Implementación de algoritmo\n",
    "</h2>"
   ]
  },
  {
   "cell_type": "markdown",
   "id": "eb735232-d970-4cc9-8db0-4fd9a0601ced",
   "metadata": {},
   "source": [
    "### Creando una instancia de la clase y definiendo k y peso"
   ]
  },
  {
   "cell_type": "code",
   "execution_count": null,
   "id": "46144142-7226-4bdb-81db-945018c31335",
   "metadata": {},
   "outputs": [],
   "source": [
    "k_prototypes_plus = KPrototypesPlus()\n",
    "k = 2\n",
    "peso = 1"
   ]
  },
  {
   "cell_type": "markdown",
   "id": "7410e3f8-2597-4d49-8066-6264c74a7ae3",
   "metadata": {},
   "source": [
    "<a id=\"kproto\">\n",
    "<h3 style=\"text-align: center; background: #008DA2; color: white; padding: 15px 0; margin: 0\"> \n",
    "    K-Prototypes\n",
    "</h3>"
   ]
  },
  {
   "cell_type": "code",
   "execution_count": null,
   "id": "4ddd7bb5-b517-40ca-9b16-3923c4c4ffe3",
   "metadata": {
    "scrolled": true
   },
   "outputs": [],
   "source": [
    "from random import randint\n",
    "centroides = []\n",
    "while len(centroides) != k:\n",
    "    c = randint(df.index[0], df.index[-1])\n",
    "    if c not in centroides:\n",
    "        centroides.append(c)\n",
    "    else:\n",
    "        continue\n",
    "\n",
    "# Calculando el k-prototypes\n",
    "print(' K-PROTOTYPES '.center(100, '_'), '\\n')\n",
    "print('\\t\\t\\t\\tCentroides en las posiciones:', centroides, '\\n')\n",
    "centroide_final_k = k_prototypes_plus._k_prototypes(k, df, peso, *centroides)    "
   ]
  },
  {
   "cell_type": "code",
   "execution_count": null,
   "id": "db22ca21-b377-49c4-9eef-a8a2d5269371",
   "metadata": {},
   "outputs": [],
   "source": [
    "# centroide_final"
   ]
  },
  {
   "cell_type": "markdown",
   "id": "b76ce386-3920-4f18-8e5e-ef8b2504741a",
   "metadata": {},
   "source": [
    "<a id=\"m1\">\n",
    "<h4 style=\"text-align: center; background: #D6F3FF; color: black; padding: 15px 0; margin: 0\"> \n",
    "    Métrica de medición\n",
    "</h4>"
   ]
  },
  {
   "cell_type": "code",
   "execution_count": null,
   "id": "9af6b624-ba6c-4dbb-8961-f5c44e7a8e0c",
   "metadata": {},
   "outputs": [],
   "source": [
    "sil_df_k = k_prototypes_plus.silhouette(centroide_final_k)"
   ]
  },
  {
   "cell_type": "markdown",
   "id": "c8a02a73-811f-4b6c-9b94-4e7d26a2e3be",
   "metadata": {},
   "source": [
    "<a id=\"r1\">\n",
    "<h4 style=\"text-align: center; background: #D6F3FF; color: black; padding: 15px 0; margin: 0\"> \n",
    "    Reporte\n",
    "</h4>"
   ]
  },
  {
   "cell_type": "code",
   "execution_count": null,
   "id": "1bb8a75f-60fc-4ba7-9e2e-3b5b0f2d06c9",
   "metadata": {},
   "outputs": [],
   "source": [
    "reporte = Reporte(f'{archivo[:-4]}_KPrototypes')\n",
    "reporte.exportar_archivo(centroide_final_k)\n",
    "cent_finales_etiquetas_df_k = reporte.centroides_finales(centroide_final_k)\n",
    "reporte.anexando_informacion(cent_finales_etiquetas_df_k)\n",
    "reporte.anexando_informacion(sil_df_k)"
   ]
  },
  {
   "cell_type": "markdown",
   "id": "7d171fb8-7806-49c7-8164-29f2f6685bdf",
   "metadata": {},
   "source": [
    "<a id=\"p1\">\n",
    "<h4 style=\"text-align: center; background: #D6F3FF; color: black; padding: 15px 0; margin: 0\"> \n",
    "    Pureza (si aplica)\n",
    "</h4>"
   ]
  },
  {
   "cell_type": "code",
   "execution_count": null,
   "id": "0fc76e74-d2b0-4e63-bb86-09ecd3e4b9e3",
   "metadata": {},
   "outputs": [],
   "source": [
    "etiquetas_original_df = k_prototypes_plus.tipo_etiqueta(etiquetas_df)\n",
    "pureza = k_prototypes_plus.pureza(centroide_final_k, etiquetas_original_df)\n",
    "reporte.anexando_informacion(pureza)"
   ]
  },
  {
   "cell_type": "markdown",
   "id": "c063e665-8bd7-4f55-bf0c-97a5c293ae24",
   "metadata": {},
   "source": [
    "<a id=\"kproto_plus\">\n",
    "<h3 style=\"text-align: center; background: #008DA2; color: white; padding: 15px 0; margin: 0\"> \n",
    "    K-Prototypes++\n",
    "</h3>"
   ]
  },
  {
   "cell_type": "code",
   "execution_count": null,
   "id": "e2dd28e0-7ca4-4676-acfc-c0e032d797f9",
   "metadata": {
    "scrolled": true
   },
   "outputs": [],
   "source": [
    "centroide_final_kplus = k_prototypes_plus.k_prototypes_plus(df=df, k=k, peso=peso, semilla=13)"
   ]
  },
  {
   "cell_type": "code",
   "execution_count": null,
   "id": "e5173c4c-b1d5-4274-8037-39bce4fd4767",
   "metadata": {},
   "outputs": [],
   "source": [
    "# centroide_final"
   ]
  },
  {
   "cell_type": "markdown",
   "id": "86496e1d-654e-4bbc-9dfd-9f5bdafe2abe",
   "metadata": {},
   "source": [
    "<a id=\"m2\">\n",
    "<h4 style=\"text-align: center; background: #D6F3FF; color: black; padding: 15px 0; margin: 0\"> \n",
    "    Métrica de medición\n",
    "</h4>"
   ]
  },
  {
   "cell_type": "code",
   "execution_count": null,
   "id": "5738bf4a-60e1-44ef-98c0-0b6b054c3f83",
   "metadata": {},
   "outputs": [],
   "source": [
    "sil_df_kplus = k_prototypes_plus.silhouette(centroide_final_kplus)"
   ]
  },
  {
   "cell_type": "markdown",
   "id": "50fd4cc8-6f0f-4f94-bd3e-de6f9e73022b",
   "metadata": {},
   "source": [
    "<a id=\"r2\">\n",
    "<h4 style=\"text-align: center; background: #D6F3FF; color: black; padding: 15px 0; margin: 0\"> \n",
    "    Reporte\n",
    "</h4>"
   ]
  },
  {
   "cell_type": "code",
   "execution_count": null,
   "id": "cb9bffc6-05cb-4a8f-830b-e4b647d9468b",
   "metadata": {},
   "outputs": [],
   "source": [
    "reporte = Reporte(f'{archivo[:-4]}_KPrototypes_Plus')\n",
    "reporte.exportar_archivo(centroide_final_kplus)\n",
    "cent_finales_etiquetas_df_kplus = reporte.centroides_finales(centroide_final_kplus)\n",
    "reporte.anexando_informacion(cent_finales_etiquetas_df_kplus)\n",
    "reporte.anexando_informacion(sil_df_kplus)"
   ]
  },
  {
   "cell_type": "markdown",
   "id": "fe51cd56-31e9-4b6c-a25b-afd5e89caeb3",
   "metadata": {},
   "source": [
    "<a id=\"p2\">\n",
    "<h4 style=\"text-align: center; background: #D6F3FF; color: black; padding: 15px 0; margin: 0\"> \n",
    "    Pureza (si aplica)\n",
    "</h4>"
   ]
  },
  {
   "cell_type": "code",
   "execution_count": null,
   "id": "1f832212-cd7a-4713-86e6-8fe224217faf",
   "metadata": {},
   "outputs": [],
   "source": [
    "etiquetas_original_df = k_prototypes_plus.tipo_etiqueta(etiquetas_df)\n",
    "pureza = k_prototypes_plus.pureza(centroide_final_kplus, etiquetas_original_df)\n",
    "reporte.anexando_informacion(pureza)"
   ]
  },
  {
   "cell_type": "code",
   "execution_count": null,
   "id": "93bd7870-fc8c-46c1-8e8c-fd89fb53198a",
   "metadata": {},
   "outputs": [],
   "source": []
  }
 ],
 "metadata": {
  "kernelspec": {
   "display_name": "nosql",
   "language": "python",
   "name": "nosql"
  },
  "language_info": {
   "codemirror_mode": {
    "name": "ipython",
    "version": 3
   },
   "file_extension": ".py",
   "mimetype": "text/x-python",
   "name": "python",
   "nbconvert_exporter": "python",
   "pygments_lexer": "ipython3",
   "version": "3.11.7"
  }
 },
 "nbformat": 4,
 "nbformat_minor": 5
}
